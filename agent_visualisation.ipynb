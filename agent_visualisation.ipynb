{
 "cells": [
  {
   "cell_type": "code",
   "execution_count": 1,
   "metadata": {},
   "outputs": [
    {
     "name": "stderr",
     "output_type": "stream",
     "text": [
      "pybullet build time: May 20 2022 19:43:01\n",
      "2023-01-04 15:14:22.851910: I tensorflow/stream_executor/platform/default/dso_loader.cc:48] Successfully opened dynamic library libcudart.so.10.1\n"
     ]
    }
   ],
   "source": [
    "import os\n",
    "import pickle\n",
    "from copy import deepcopy\n",
    "from pathlib import Path\n",
    "from pprint import pprint\n",
    "\n",
    "import matplotlib\n",
    "import matplotlib.pyplot as plt\n",
    "import numpy as np\n",
    "import pybullet as p\n",
    "\n",
    "# import rlberry.colab_utils.display_setup\n",
    "import tensorflow as tf\n",
    "from absl import app, flags\n",
    "from gym.wrappers import Monitor\n",
    "\n",
    "# from rlberry.colab_utils.display_setup import show_video\n",
    "from scipy.spatial import ConvexHull\n",
    "\n",
    "import ravens.utils.utils as ravens_utils\n",
    "from ravens import agents, dataset, tasks\n",
    "from ravens.environments.environment import Environment\n",
    "from ravens.utils import utils\n"
   ]
  },
  {
   "cell_type": "code",
   "execution_count": 2,
   "metadata": {},
   "outputs": [],
   "source": [
    "%reload_ext autoreload\n",
    "%autoreload 2"
   ]
  },
  {
   "cell_type": "code",
   "execution_count": 3,
   "metadata": {},
   "outputs": [
    {
     "ename": "",
     "evalue": "",
     "output_type": "error",
     "traceback": [
      "\u001b[1;31mCanceled future for execute_request message before replies were done"
     ]
    },
    {
     "ename": "",
     "evalue": "",
     "output_type": "error",
     "traceback": [
      "\u001b[1;31mThe Kernel crashed while executing code in the the current cell or a previous cell. Please review the code in the cell(s) to identify a possible cause of the failure. Click <a href='https://aka.ms/vscodeJupyterKernelCrash'>here</a> for more info. View Jupyter <a href='command:jupyter.viewOutput'>log</a> for further details."
     ]
    }
   ],
   "source": [
    "task_name = \"block-insertion\"\n",
    "agent = \"transporter\"\n",
    "train_run = 0\n",
    "n_demos = 100\n",
    "n_steps = 50\n",
    "\n",
    "assets_root = \"ravens/ravens/environments/assets/\"\n",
    "data_dir = \"dataset/\"\n",
    "root_dir = \"./\"\n",
    "path_to_predictions = f\"predictions/{task_name}-{agent}-{n_demos}-{train_run}/\"\n",
    "name = f\"{task_name}-{agent}-{n_demos}-{train_run}/\"\n",
    "\n",
    "env = Environment(assets_root, disp=True, shared_memory=False, hz=480, use_egl=False)\n",
    "task = tasks.names[task_name]()\n",
    "task.mode = \"test\"\n",
    "\n",
    "# Load test dataset.\n",
    "ds = dataset.Dataset(os.path.join(data_dir, f\"{task_name}-test\"))\n",
    "agent = agents.names[agent](name, task_name, root_dir)\n",
    "agent.load(n_steps)\n",
    "# vis = ravens_utils.create_visualizer()\n",
    "# ravens_utils.meshcat_visualize()\n",
    "\n",
    "episode, seed = ds.load(0)\n",
    "goal = episode[-1]\n",
    "total_reward = 0\n",
    "np.random.seed(seed)\n",
    "env.seed(seed)\n",
    "env.set_task(task)\n",
    "obs = env.reset()\n",
    "info = None\n",
    "\n",
    "act = agent.act(obs, info, goal)\n",
    "obs, reward, done, info = env.step(act)\n",
    "act[\"camera_config\"] = agent.cam_config\n",
    "print(f\"Total Reward: {total_reward} Done: {done}\")\n",
    "if done:\n",
    "    pass\n"
   ]
  },
  {
   "cell_type": "code",
   "execution_count": 13,
   "metadata": {},
   "outputs": [
    {
     "name": "stdout",
     "output_type": "stream",
     "text": [
      "Total Reward: 0 Done: True\n",
      "Total Reward: 0 Done: True\n",
      "Total Reward: 0 Done: True\n"
     ]
    }
   ],
   "source": [
    "episode, seed = ds.load(1)\n",
    "goal = episode[-1]\n",
    "total_reward = 0\n",
    "np.random.seed(seed)\n",
    "env.seed(seed)\n",
    "env.set_task(task)\n",
    "obs = env.reset()\n",
    "info = None\n",
    "actions = []\n",
    "for _ in range(task.max_steps):\n",
    "    act = agent.act(obs, info, goal)\n",
    "    obs, reward, done, info = env.step(act)\n",
    "    actions.append(act)\n",
    "    # act[\"camera_config\"] = agent.cam_config\n",
    "    # actions.append(act)\n",
    "    print(f\"Total Reward: {total_reward} Done: {done}\")\n",
    "    if done:\n",
    "        pass\n"
   ]
  },
  {
   "cell_type": "code",
   "execution_count": 18,
   "metadata": {},
   "outputs": [
    {
     "name": "stdout",
     "output_type": "stream",
     "text": [
      "startThreads creating 1 threads.\n",
      "starting thread 0\n",
      "started thread 0 \n",
      "argc=2\n",
      "argv[0] = --unused\n",
      "argv[1] = --start_demo_name=Physics Server\n",
      "ExampleBrowserThreadFunc started\n",
      "X11 functions dynamically loaded using dlopen/dlsym OK!\n",
      "X11 functions dynamically loaded using dlopen/dlsym OK!\n",
      "Creating context\n",
      "Created GL 3.3 context\n",
      "Direct GLX rendering context obtained\n",
      "Making context current\n",
      "GL_VENDOR=Microsoft Corporation\n",
      "GL_RENDERER=D3D12 (AMD Radeon(TM) Graphics)\n",
      "GL_VERSION=3.3 (Core Profile) Mesa 21.2.6\n",
      "GL_SHADING_LANGUAGE_VERSION=3.30\n",
      "pthread_getconcurrency()=0\n",
      "Version = 3.3 (Core Profile) Mesa 21.2.6\n",
      "Vendor = Microsoft Corporation\n",
      "Renderer = D3D12 (AMD Radeon(TM) Graphics)\n",
      "b3Printf: Selected demo: Physics Server\n",
      "startThreads creating 1 threads.\n",
      "starting thread 0\n",
      "started thread 0 \n",
      "MotionThreadFunc thread started\n",
      "text argument:ravens/ravens/environments/assets/\n",
      "int args: [ven = Microsoft Corporation\n",
      "ven = Microsoft Corporation\n"
     ]
    },
    {
     "name": "stderr",
     "output_type": "stream",
     "text": [
      "GL error 0x500 detected in glGenBuffers\n"
     ]
    },
    {
     "name": "stdout",
     "output_type": "stream",
     "text": [
      "Loading pre-trained model at 50 iterations.\n"
     ]
    },
    {
     "name": "stderr",
     "output_type": "stream",
     "text": [
      "/home/matias/.pyenv/versions/3.7.12/envs/RECVIS/lib/python3.7/site-packages/gym/logger.py:30: UserWarning: \u001b[33mWARN: Trying to monitor an environment which has no 'spec' set. This usually means you did not create it via 'gym.make', and is recommended only for advanced users.\u001b[0m\n",
      "  warnings.warn(colorize('%s: %s'%('WARN', msg % args), 'yellow'))\n"
     ]
    },
    {
     "name": "stdout",
     "output_type": "stream",
     "text": [
      "numActiveThreads = 0\n",
      "stopping threads\n",
      "Thread with taskId 0 exiting\n",
      "Thread TERMINATED\n",
      "destroy semaphore\n",
      "semaphore destroyed\n",
      "destroy main semaphore\n",
      "main semaphore destroyed\n",
      "finished\n",
      "numActiveThreads = 0\n",
      "btShutDownExampleBrowser stopping threads\n",
      "Thread with taskId 0 exiting\n",
      "Thread TERMINATED\n",
      "destroy semaphore\n",
      "semaphore destroyed\n",
      "destroy main semaphore\n",
      "main semaphore destroyed\n"
     ]
    }
   ],
   "source": [
    "from gym.wrappers.monitoring.video_recorder import VideoRecorder\n",
    "\n",
    "task_name = \"block-insertion\"\n",
    "agent = \"transporter\"\n",
    "train_run = 0\n",
    "n_demos = 100\n",
    "n_steps = 50\n",
    "\n",
    "assets_root = \"ravens/ravens/environments/assets/\"\n",
    "data_dir = \"dataset/\"\n",
    "root_dir = \"./\"\n",
    "path_to_predictions = f\"predictions/{task_name}-{agent}-{n_demos}-{train_run}/\"\n",
    "name = f\"{task_name}-{agent}-{n_demos}-{train_run}/\"\n",
    "\n",
    "env = Environment(assets_root, disp=True, shared_memory=False, hz=480, use_egl=False)\n",
    "task = tasks.names[task_name]()\n",
    "task.mode = \"test\"\n",
    "\n",
    "# Load test dataset.\n",
    "ds = dataset.Dataset(os.path.join(data_dir, f\"{task_name}-test\"))\n",
    "agent = agents.names[agent](name, task_name, root_dir)\n",
    "agent.load(n_steps)\n",
    "\n",
    "\n",
    "\n",
    "env = deepcopy(env)\n",
    "env = Monitor(env, \"./videos\", force=True)\n",
    "episode, seed = ds.load(0)\n",
    "goal = episode[-1]\n",
    "np.random.seed(seed)\n",
    "env.seed(seed)\n",
    "env.set_task(task)\n",
    "\n",
    "done = False\n",
    "info = None\n",
    "obs = env.reset()\n",
    "env.render(mode=\"rgb_array\")\n",
    "for _ in range(task.max_steps):\n",
    "    # while not done:\n",
    "    act = agent.act(obs, info, goal)\n",
    "    obs, reward, done, info = env.step(act)\n",
    "    env.render(mode=\"rgb_array\")\n",
    "    if done:\n",
    "        break\n",
    "\n",
    "p.disconnect()\n"
   ]
  },
  {
   "cell_type": "code",
   "execution_count": 17,
   "metadata": {},
   "outputs": [
    {
     "name": "stdout",
     "output_type": "stream",
     "text": [
      "numActiveThreads = 0\n",
      "stopping threads\n",
      "Thread with taskId 0 exiting\n",
      "Thread TERMINATED\n",
      "destroy semaphore\n",
      "semaphore destroyed\n",
      "destroy main semaphore\n",
      "main semaphore destroyed\n",
      "finished\n",
      "numActiveThreads = 0\n",
      "btShutDownExampleBrowser stopping threads\n",
      "Thread with taskId 0 exiting\n",
      "Thread TERMINATED\n",
      "destroy semaphore\n",
      "semaphore destroyed\n",
      "destroy main semaphore\n",
      "main semaphore destroyed\n"
     ]
    }
   ],
   "source": [
    "p.disconnect()"
   ]
  },
  {
   "cell_type": "code",
   "execution_count": 3,
   "metadata": {},
   "outputs": [],
   "source": [
    "from gym.envs.registration import register\n",
    "import gym\n",
    "import ravens\n",
    "\n",
    "register(\n",
    "    id=\"robot/env-v0\",\n",
    "    entry_point=\"ravens.environments.environment:Environment\",\n",
    "    max_episode_steps=300,\n",
    ")\n"
   ]
  },
  {
   "cell_type": "code",
   "execution_count": 5,
   "metadata": {},
   "outputs": [
    {
     "name": "stderr",
     "output_type": "stream",
     "text": [
      "GL error 0x500 detected in glGenBuffers\n"
     ]
    },
    {
     "name": "stdout",
     "output_type": "stream",
     "text": [
      "startThreads creating 1 threads.\n",
      "starting thread 0\n",
      "started thread 0 \n",
      "argc=2\n",
      "argv[0] = --unused\n",
      "argv[1] = --start_demo_name=Physics Server\n",
      "ExampleBrowserThreadFunc started\n",
      "X11 functions dynamically loaded using dlopen/dlsym OK!\n",
      "X11 functions dynamically loaded using dlopen/dlsym OK!\n",
      "Creating context\n",
      "Created GL 3.3 context\n",
      "Direct GLX rendering context obtained\n",
      "Making context current\n",
      "GL_VENDOR=Microsoft Corporation\n",
      "GL_RENDERER=D3D12 (AMD Radeon(TM) Graphics)\n",
      "GL_VERSION=3.3 (Core Profile) Mesa 21.2.6\n",
      "GL_SHADING_LANGUAGE_VERSION=3.30\n",
      "pthread_getconcurrency()=0\n",
      "Version = 3.3 (Core Profile) Mesa 21.2.6\n",
      "Vendor = Microsoft Corporation\n",
      "Renderer = D3D12 (AMD Radeon(TM) Graphics)\n",
      "b3Printf: Selected demo: Physics Server\n",
      "startThreads creating 1 threads.\n",
      "starting thread 0\n",
      "started thread 0 \n",
      "MotionThreadFunc thread started\n",
      "text argument:ravens/ravens/environments/assets/\n",
      "int args: [ven = Microsoft Corporation\n",
      "ven = Microsoft Corporation\n",
      "WARNING:tensorflow:From /home/matias/RECVIS/RECVIS-transporter-networks/ravens/ravens/agents/transporter.py:169: set_learning_phase (from tensorflow.python.keras.backend) is deprecated and will be removed after 2020-10-11.\n",
      "Instructions for updating:\n",
      "Simply pass a True/False value to the `training` argument of the `__call__` method of your layer or model.\n",
      "0\n",
      "0\n",
      "0\n",
      "False\n"
     ]
    }
   ],
   "source": [
    "import gym\n",
    "import ravens\n",
    "\n",
    "env = gym.make(\n",
    "    \"robot/env-v0\",\n",
    "    assets_root=assets_root,\n",
    "    disp=True,\n",
    "    shared_memory=False,\n",
    "    hz=480,\n",
    "    use_egl=False,\n",
    ")\n",
    "\n",
    "env = deepcopy(env)\n",
    "env = Monitor(env, \"./videos\", force=True)\n",
    "episode, seed = ds.load(0)\n",
    "goal = episode[-1]\n",
    "np.random.seed(seed)\n",
    "env.seed(seed)\n",
    "env.set_task(task)\n",
    "\n",
    "done = False\n",
    "info = None\n",
    "obs = env.reset()\n",
    "env.render(mode=\"rgb_array\")\n",
    "for _ in range(task.max_steps):\n",
    "    # while not done:\n",
    "    act = agent.act(obs, info, goal)\n",
    "    obs, reward, done, info = env.step(act)\n",
    "    env.render(mode=\"rgb_array\")\n",
    "    print(reward)\n",
    "    if done:\n",
    "        break\n",
    "print(done)\n"
   ]
  },
  {
   "cell_type": "code",
   "execution_count": 11,
   "metadata": {},
   "outputs": [
    {
     "name": "stderr",
     "output_type": "stream",
     "text": [
      "MovieWriter imagemagick unavailable; using Pillow instead.\n"
     ]
    },
    {
     "data": {
      "image/png": "[encoded data removed]",
      "text/plain": [
       "<Figure size 640x480 with 1 Axes>"
      ]
     },
     "metadata": {},
     "output_type": "display_data"
    }
   ],
   "source": [
    "from matplotlib import animation\n",
    "import matplotlib.pyplot as plt\n",
    "import gym\n",
    "\n",
    "\"\"\"\n",
    "Ensure you have imagemagick installed with \n",
    "sudo apt-get install imagemagick\n",
    "Open file in CLI with:\n",
    "xgd-open <filelname>\n",
    "\"\"\"\n",
    "\n",
    "\n",
    "def save_frames_as_gif(frames, path=\"./\", filename=\"gym_animation.gif\"):\n",
    "\n",
    "    # Mess with this to change frame size\n",
    "    plt.figure(figsize=(frames[0].shape[1] / 72.0, frames[0].shape[0] / 72.0), dpi=72)\n",
    "\n",
    "    patch = plt.imshow(frames[0])\n",
    "    plt.axis(\"off\")\n",
    "\n",
    "    def animate(i):\n",
    "        patch.set_data(frames[i])\n",
    "\n",
    "    anim = animation.FuncAnimation(plt.gcf(), animate, frames=len(frames), interval=50)\n",
    "    anim.save(path + filename, writer=\"imagemagick\", fps=60)\n",
    "\n",
    "\n",
    "# Run the env\n",
    "frames = []\n",
    "episode, seed = ds.load(1)\n",
    "goal = episode[-1]\n",
    "np.random.seed(seed)\n",
    "env.seed(seed)\n",
    "env.set_task(task)\n",
    "observation = env.reset()\n",
    "done = False\n",
    "info = None\n",
    "frames.append(env.render(mode=\"rgb_array\"))\n",
    "for _ in range(task.max_steps):\n",
    "    act = agent.act(observation, info, goal)\n",
    "    observation, reward, done, info = env.step(act)\n",
    "    frames.append(env.render(mode=\"rgb_array\"))\n",
    "    if done:\n",
    "        break\n",
    "# for t in range(1000):\n",
    "#     #Render to frames buffer\n",
    "#     frames.append(env.render(mode=\"rgb_array\"))\n",
    "#     action = env.action_space.sample()\n",
    "#     _, _, done, _ = env.step(action)\n",
    "#     if done:\n",
    "#         break\n",
    "# env.close()\n",
    "save_frames_as_gif(frames)\n"
   ]
  },
  {
   "cell_type": "code",
   "execution_count": null,
   "metadata": {},
   "outputs": [],
   "source": []
  }
 ],
 "metadata": {
  "kernelspec": {
   "display_name": "base",
   "language": "python",
   "name": "python3"
  },
  "language_info": {
   "codemirror_mode": {
    "name": "ipython",
    "version": 3
   },
   "file_extension": ".py",
   "mimetype": "text/x-python",
   "name": "python",
   "nbconvert_exporter": "python",
   "pygments_lexer": "ipython3",
   "version": "3.7.12"
  },
  "orig_nbformat": 4,
  "vscode": {
   "interpreter": {
    "hash": "d4d1e4263499bec80672ea0156c357c1ee493ec2b1c70f0acce89fc37c4a6abe"
   }
  }
 },
 "nbformat": 4,
 "nbformat_minor": 2
}
